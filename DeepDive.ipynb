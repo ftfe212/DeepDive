{
 "cells": [
  {
   "cell_type": "code",
   "execution_count": 1,
   "metadata": {
    "tags": []
   },
   "outputs": [
    {
     "data": {
      "text/plain": [
       "<module 'generator' from 'C:\\\\Users\\\\Kilian\\\\OneDrive\\\\Studium\\\\Bildverarbeitung\\\\Abgabe\\\\generator.py'>"
      ]
     },
     "execution_count": 1,
     "metadata": {},
     "output_type": "execute_result"
    }
   ],
   "source": [
    "# We will use this cell to import all the packages you will need in the following - think of it as turning on all your systems\n",
    "# in your cockpit\n",
    "\n",
    "# This makes sure that if you change code in your external scripts, they will be updated\n",
    "\n",
    "\n",
    "import checker\n",
    "import generator\n",
    "\n",
    "from IPython.display import display, clear_output\n",
    "import numpy as np\n",
    "import time\n",
    "import math\n",
    "import matplotlib.pyplot as plt\n",
    "import seaborn as sn\n",
    "import pandas as pd\n",
    "\n",
    "import importlib\n",
    "importlib.reload(checker)\n",
    "importlib.reload(generator)\n",
    "\n",
    "# now go ahead and Run the cell. This might take a while...\n",
    "# while the cell is running, you will see ln[*] next to it. Once it finished, you will see the number of execution\n",
    "# In case you want to interrupt the run of a cell, press Ctrl + C (on your german keyboard, this is Strg + C)"
   ]
  },
  {
   "cell_type": "code",
   "execution_count": 2,
   "metadata": {
    "tags": []
   },
   "outputs": [],
   "source": [
    "# pip install --upgrade tensorflow\n",
    "# tensorflow version 2.14.0 is used"
   ]
  },
  {
   "cell_type": "code",
   "execution_count": 3,
   "metadata": {
    "tags": []
   },
   "outputs": [
    {
     "name": "stdout",
     "output_type": "stream",
     "text": [
      "Tensorflow version: 2.14.0 (Expected 2.14.0)\n"
     ]
    }
   ],
   "source": [
    "# There is this joke that once you have added this import line to your code, \n",
    "# you are allowed to sell your product telling everyone that you are using AI. Life is easy, sometimes.\n",
    "\n",
    "import tensorflow as tf\n",
    "from tensorflow.keras.layers.experimental import preprocessing\n",
    "print('Tensorflow version:', tf.__version__, '(Expected 2.14.0)')\n",
    "\n",
    "\n",
    "\n",
    "# Keras is a model-level library, meaning that it is built upon tensorflow (using it as a backend) - allowing for\n",
    "# high-level building blocks. Making it even easier to design neural networks.\n",
    "# We will access it as tf.keras\n",
    "\n",
    "# The tf and k abbreviations are best practice (same for numpy np and pandas pd), \n",
    "# since you do not want to type T E N S O R F L O W all over your code.\n",
    "# They are prevalent all over the industry and academia in a way that you'll risk a fight if you import them differently."
   ]
  },
  {
   "cell_type": "code",
   "execution_count": 4,
   "metadata": {},
   "outputs": [],
   "source": [
    "# Set the random seed\n",
    "np.random.seed(0)\n",
    "tf.random.set_seed(0)"
   ]
  },
  {
   "cell_type": "code",
   "execution_count": 5,
   "metadata": {
    "tags": []
   },
   "outputs": [
    {
     "name": "stdout",
     "output_type": "stream",
     "text": [
      "x_train: (60000, 28, 28)\n",
      "y_train: (60000,)\n",
      "x_test: (10000, 28, 28)\n",
      "y_test: (10000,)\n"
     ]
    }
   ],
   "source": [
    "# Loading the MNIST dataset in one line\n",
    "(x_train, y_train), (x_test, y_test) = tf.keras.datasets.mnist.load_data()\n",
    "\n",
    "# Printing the shape\n",
    "print('x_train:', x_train.shape)\n",
    "print('y_train:', y_train.shape)\n",
    "print('x_test:', x_test.shape)\n",
    "print('y_test:', y_test.shape)"
   ]
  },
  {
   "cell_type": "code",
   "execution_count": 6,
   "metadata": {},
   "outputs": [
    {
     "name": "stdout",
     "output_type": "stream",
     "text": [
      "x_train: (15000, 28, 28)\n",
      "y_train: (15000,)\n",
      "x_test: (10000, 28, 28)\n",
      "y_test: (10000,)\n"
     ]
    }
   ],
   "source": [
    "# sample only 15k images for training\n",
    "datas = 15000\n",
    "x_train = x_train[:datas:]\n",
    "y_train = y_train[:datas:]\n",
    "\n",
    "# Printing the shape\n",
    "print('x_train:', x_train.shape)\n",
    "print('y_train:', y_train.shape)\n",
    "print('x_test:', x_test.shape)\n",
    "print('y_test:', y_test.shape)"
   ]
  },
  {
   "cell_type": "code",
   "execution_count": 7,
   "metadata": {
    "tags": []
   },
   "outputs": [],
   "source": [
    "x_train_normalized = x_train / 255\n",
    "x_test_normalized = x_test / 255\n",
    "\n",
    "# in the next step, we also need to reshape our input to fit our input layer later on. \n",
    "# This is due to keras expecting a definition for how many channels your input sample has, as we \n",
    "# deal with gray scale this is 1.\n",
    "x_train= x_train_normalized.reshape(-1, 28, 28, 1)\n",
    "x_test = x_test_normalized.reshape(-1, 28, 28, 1)"
   ]
  },
  {
   "cell_type": "code",
   "execution_count": 8,
   "metadata": {},
   "outputs": [
    {
     "name": "stdout",
     "output_type": "stream",
     "text": [
      "Model: \"sequential\"\n",
      "_________________________________________________________________\n",
      " Layer (type)                Output Shape              Param #   \n",
      "=================================================================\n",
      " random_rotation (RandomRot  (None, 28, 28, 1)         0         \n",
      " ation)                                                          \n",
      "                                                                 \n",
      " resizing (Resizing)         (None, 24, 26, 1)         0         \n",
      "                                                                 \n",
      " conv2d (Conv2D)             (None, 22, 24, 32)        320       \n",
      "                                                                 \n",
      " max_pooling2d (MaxPooling2  (None, 11, 12, 32)        0         \n",
      " D)                                                              \n",
      "                                                                 \n",
      " batch_normalization (Batch  (None, 11, 12, 32)        128       \n",
      " Normalization)                                                  \n",
      "                                                                 \n",
      " conv2d_1 (Conv2D)           (None, 9, 10, 12)         3468      \n",
      "                                                                 \n",
      " max_pooling2d_1 (MaxPoolin  (None, 4, 5, 12)          0         \n",
      " g2D)                                                            \n",
      "                                                                 \n",
      " dropout (Dropout)           (None, 4, 5, 12)          0         \n",
      "                                                                 \n",
      " flatten (Flatten)           (None, 240)               0         \n",
      "                                                                 \n",
      " dense (Dense)               (None, 64)                15424     \n",
      "                                                                 \n",
      " dropout_1 (Dropout)         (None, 64)                0         \n",
      "                                                                 \n",
      " gaussian_noise (GaussianNo  (None, 64)                0         \n",
      " ise)                                                            \n",
      "                                                                 \n",
      " dense_1 (Dense)             (None, 10)                650       \n",
      "                                                                 \n",
      "=================================================================\n",
      "Total params: 19990 (78.09 KB)\n",
      "Trainable params: 19926 (77.84 KB)\n",
      "Non-trainable params: 64 (256.00 Byte)\n",
      "_________________________________________________________________\n"
     ]
    }
   ],
   "source": [
    "# This is the moment where you define your model's architecture\n",
    "\n",
    "marvin = tf.keras.models.Sequential([\n",
    "# input layer\n",
    "  tf.keras.layers.InputLayer(input_shape=(28, 28, 1)),\n",
    "# data augmentation\n",
    "  tf.keras.layers.experimental.preprocessing.RandomRotation(factor=0.01),\n",
    "  tf.keras.layers.experimental.preprocessing.Resizing(24, 26),\n",
    "# first conv layer\n",
    "  tf.keras.layers.Conv2D(filters=32, kernel_size=(3, 3), activation='relu'),\n",
    "  tf.keras.layers.MaxPooling2D(pool_size=(2, 2)),\n",
    "  tf.keras.layers.BatchNormalization(),\n",
    "# second conv layer\n",
    "  tf.keras.layers.Conv2D(filters=12, kernel_size=(3, 3), activation='relu'),\n",
    "  tf.keras.layers.MaxPooling2D(pool_size=(2, 2)),\n",
    "  tf.keras.layers.Dropout(0.2), #between 0 and 0.5\n",
    "# flatten and fully connected layer\n",
    "  tf.keras.layers.Flatten(),\n",
    "  tf.keras.layers.Dense(64, activation='relu'), # fully connected\n",
    "  tf.keras.layers.Dropout(0.4), #between 0 and 0.5\n",
    "# adds GaussianNoise\n",
    "  tf.keras.layers.GaussianNoise(0.1),\n",
    "# softmax layer\n",
    "  tf.keras.layers.Dense(10, activation='softmax')\n",
    "])\n",
    "marvin.summary()"
   ]
  },
  {
   "cell_type": "code",
   "execution_count": 9,
   "metadata": {},
   "outputs": [
    {
     "name": "stdout",
     "output_type": "stream",
     "text": [
      "tf.Tensor(2.3025851, shape=(), dtype=float32)\n"
     ]
    },
    {
     "data": {
      "text/plain": [
       "2.2762256"
      ]
     },
     "execution_count": 9,
     "metadata": {},
     "output_type": "execute_result"
    }
   ],
   "source": [
    "# Define your loss\n",
    "loss_fn = tf.keras.losses.SparseCategoricalCrossentropy(from_logits=False)\n",
    "\n",
    "\n",
    "print(-tf.math.log(1/10))\n",
    "\n",
    "sampleID = 100\n",
    "loss_fn(y_train[:1], marvin(x_train[sampleID-1:sampleID]).numpy()).numpy()"
   ]
  },
  {
   "cell_type": "code",
   "execution_count": 10,
   "metadata": {},
   "outputs": [],
   "source": [
    "# Compiling basically means to prepare the training routine for your model which consists of the optimizer, \n",
    "# the loss, and the metrics which are to be reported during training\n",
    "\n",
    "# define learningrate for adam\n",
    "#tf.keras.optimizers.Adam.learning_rate=0.1\n",
    "\n",
    "marvin.compile(optimizer='adam',\n",
    "              loss=loss_fn,\n",
    "              metrics=['accuracy'])"
   ]
  },
  {
   "cell_type": "code",
   "execution_count": 11,
   "metadata": {},
   "outputs": [],
   "source": [
    "import datetime\n",
    "import os\n",
    "%load_ext tensorboard\n",
    "\n",
    "\n",
    "logdir = os.path.join(\"logs\", datetime.datetime.now().strftime(\"%Y%m%d-%H%M%S\"))\n",
    "tensorboard_callback = tf.keras.callbacks.TensorBoard(logdir, histogram_freq=1)"
   ]
  },
  {
   "cell_type": "code",
   "execution_count": 12,
   "metadata": {},
   "outputs": [
    {
     "name": "stdout",
     "output_type": "stream",
     "text": [
      "Epoch 1/10\n",
      "469/469 [==============================] - 15s 27ms/step - loss: 0.7457 - accuracy: 0.7545 - val_loss: 0.2812 - val_accuracy: 0.9618\n",
      "Epoch 2/10\n",
      "469/469 [==============================] - 12s 25ms/step - loss: 0.2602 - accuracy: 0.9210 - val_loss: 0.0987 - val_accuracy: 0.9712\n",
      "Epoch 3/10\n",
      "469/469 [==============================] - 12s 27ms/step - loss: 0.1927 - accuracy: 0.9443 - val_loss: 0.0827 - val_accuracy: 0.9751\n",
      "Epoch 4/10\n",
      "469/469 [==============================] - 12s 26ms/step - loss: 0.1552 - accuracy: 0.9540 - val_loss: 0.0818 - val_accuracy: 0.9757\n",
      "Epoch 5/10\n",
      "469/469 [==============================] - 12s 26ms/step - loss: 0.1430 - accuracy: 0.9573 - val_loss: 0.0588 - val_accuracy: 0.9804\n",
      "Epoch 6/10\n",
      "469/469 [==============================] - 12s 26ms/step - loss: 0.1266 - accuracy: 0.9613 - val_loss: 0.0550 - val_accuracy: 0.9823\n",
      "Epoch 7/10\n",
      "469/469 [==============================] - 12s 26ms/step - loss: 0.1112 - accuracy: 0.9669 - val_loss: 0.0478 - val_accuracy: 0.9853\n",
      "Epoch 8/10\n",
      "469/469 [==============================] - 12s 25ms/step - loss: 0.1064 - accuracy: 0.9669 - val_loss: 0.0521 - val_accuracy: 0.9826\n",
      "Epoch 9/10\n",
      "469/469 [==============================] - 12s 26ms/step - loss: 0.1017 - accuracy: 0.9699 - val_loss: 0.0534 - val_accuracy: 0.9823\n",
      "Epoch 10/10\n",
      "469/469 [==============================] - 12s 25ms/step - loss: 0.0947 - accuracy: 0.9699 - val_loss: 0.0476 - val_accuracy: 0.9840\n",
      "CPU times: total: 5min 53s\n",
      "Wall time: 2min 4s\n",
      "313/313 [==============================] - 2s 7ms/step - loss: 0.0476 - accuracy: 0.9840\n"
     ]
    },
    {
     "data": {
      "text/plain": [
       "[0.047567594796419144, 0.984000027179718]"
      ]
     },
     "execution_count": 12,
     "metadata": {},
     "output_type": "execute_result"
    }
   ],
   "source": [
    "# get ready for your first training run.\n",
    "\n",
    "%time hist = marvin.fit(x_train, y_train, epochs=10, batch_size=32, shuffle=True, validation_data=(x_test, y_test))\n",
    "    # callbacks=[tensorboard_callback]\n",
    "\n",
    "\n",
    "marvin.evaluate(x_test, y_test)"
   ]
  },
  {
   "cell_type": "code",
   "execution_count": 13,
   "metadata": {},
   "outputs": [
    {
     "data": {
      "image/png": "[encoded data removed]",
      "text/plain": [
       "<Figure size 640x480 with 1 Axes>"
      ]
     },
     "metadata": {},
     "output_type": "display_data"
    }
   ],
   "source": [
    "#Visualization Model Accuracy\n",
    "\n",
    "plt.title('Epoch-Accuracy Graph')\n",
    "plt.xlabel = 'Epochs'\n",
    "plt.ylabel = 'Loss'\n",
    "plt.plot(range(1, len(hist.epoch) + 1), hist.history['accuracy'])\n",
    "plt.plot(range(1, len(hist.epoch) + 1), hist.history['val_accuracy'])\n",
    "plt.legend(['accuracy', 'val_accuracy'])\n",
    "plt.show()"
   ]
  },
  {
   "cell_type": "code",
   "execution_count": 14,
   "metadata": {},
   "outputs": [],
   "source": [
    "# This line would start up tensorboard for you\n",
    "# %tensorboard --logdir logs"
   ]
  },
  {
   "cell_type": "code",
   "execution_count": 15,
   "metadata": {},
   "outputs": [
    {
     "name": "stdout",
     "output_type": "stream",
     "text": [
      "Success! You saved Marvin as:  marvin_lr.h5\n"
     ]
    },
    {
     "name": "stderr",
     "output_type": "stream",
     "text": [
      "C:\\Users\\Kilian\\AppData\\Roaming\\Python\\Python311\\site-packages\\keras\\src\\engine\\training.py:3079: UserWarning: You are saving your model as an HDF5 file via `model.save()`. This file format is considered legacy. We recommend using instead the native Keras format, e.g. `model.save('my_model.keras')`.\n",
      "  saving_api.save_model(\n"
     ]
    }
   ],
   "source": [
    "# after the training finishes, we will also save Marvin in Keras style (HDF5), so we do not have to \n",
    "# train him again\n",
    "# every time we start our computer. Obviously, by changing the model_name, you can also save different\n",
    "# configurations of Marvin. The name has to be a string, like this: 'name.h5'\n",
    "model_name = 'marvin_lr.h5'\n",
    "marvin.save(model_name, save_format='h5')\n",
    "\n",
    "# It is best practice to indicate what configuration changes you did within the name, so you know\n",
    "# which model you need to load already from its name\n",
    "# Let's say instead of a learning rate of 0.001 you used 0.1, your naming could then look like:\n",
    "# 'marvin_lr01.h5'\n",
    "\n",
    "print('Success! You saved Marvin as: ', model_name)"
   ]
  },
  {
   "cell_type": "code",
   "execution_count": 16,
   "metadata": {},
   "outputs": [
    {
     "name": "stdout",
     "output_type": "stream",
     "text": [
      "313/313 [==============================] - 2s 7ms/step\n"
     ]
    }
   ],
   "source": [
    "# load a saved marvin configuration you want to evaluate\n",
    "model_name = 'marvin_lr.h5'\n",
    "marvin_reloaded = tf.keras.models.load_model(model_name)\n",
    "\n",
    "# Let Marvin predict on the test set, so we have some data to evaluate his performance.\n",
    "predictions = marvin_reloaded.predict([x_test])\n",
    "\n",
    "# Remember that the prediction of Marvin is a probability distribution over all ten-digit classes\n",
    "# We want him to assign the digit class with the highest probability to the sample.\n",
    "predictions = np.argmax(predictions, axis=1)\n",
    "#pd.DataFrame(predictions)"
   ]
  },
  {
   "cell_type": "code",
   "execution_count": 17,
   "metadata": {},
   "outputs": [
    {
     "name": "stdout",
     "output_type": "stream",
     "text": [
      "313/313 [==============================] - 3s 7ms/step - loss: 0.0476 - accuracy: 0.9840\n",
      "Loss:  0.047567594796419144\n",
      "Accuracy:  0.984000027179718\n"
     ]
    }
   ],
   "source": [
    "(test_loss, test_acc) = marvin_reloaded.evaluate(x_test, y_test)\n",
    "print(\"Loss: \", test_loss)\n",
    "print(\"Accuracy: \", test_acc)"
   ]
  },
  {
   "cell_type": "code",
   "execution_count": 18,
   "metadata": {},
   "outputs": [
    {
     "data": {
      "image/png": "[encoded data removed]",
      "text/plain": [
       "<Figure size 900x700 with 2 Axes>"
      ]
     },
     "metadata": {},
     "output_type": "display_data"
    }
   ],
   "source": [
    "confusion_matrix = tf.math.confusion_matrix(y_test, predictions)\n",
    "\n",
    "f, ax = plt.subplots(figsize=(9, 7))\n",
    "sn.heatmap(\n",
    "    confusion_matrix,\n",
    "    annot=True,\n",
    "    linewidths=.7,\n",
    "    fmt=\"d\",\n",
    "    square=True,\n",
    "    ax=ax,\n",
    "    cmap=\"viridis\",\n",
    ")\n",
    "plt.show()"
   ]
  }
 ],
 "metadata": {
  "kernelspec": {
   "display_name": "Python 3 (ipykernel)",
   "language": "python",
   "name": "python3"
  },
  "language_info": {
   "codemirror_mode": {
    "name": "ipython",
    "version": 3
   },
   "file_extension": ".py",
   "mimetype": "text/x-python",
   "name": "python",
   "nbconvert_exporter": "python",
   "pygments_lexer": "ipython3",
   "version": "3.11.5"
  }
 },
 "nbformat": 4,
 "nbformat_minor": 4
}
